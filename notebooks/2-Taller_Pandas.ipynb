{
 "cells": [
  {
   "cell_type": "markdown",
   "id": "af11c550",
   "metadata": {},
   "source": [
    "# Taller de Pandas - Fundamentos con Ejercicios"
   ]
  },
  {
   "cell_type": "markdown",
   "id": "ba57aa1d",
   "metadata": {},
   "source": [
    "## 1. Introducción a Pandas"
   ]
  },
  {
   "cell_type": "markdown",
   "id": "0bed581e",
   "metadata": {},
   "source": [
    "Pandas es una biblioteca de Python utilizada para la manipulación y análisis de datos."
   ]
  },
  {
   "cell_type": "markdown",
   "id": "354bf2f5",
   "metadata": {},
   "source": [
    "Para instalar Pandas, usa el siguiente comando:"
   ]
  },
  {
   "cell_type": "code",
   "execution_count": null,
   "id": "b120a68f",
   "metadata": {},
   "outputs": [],
   "source": [
    "!pip install pandas"
   ]
  },
  {
   "cell_type": "markdown",
   "id": "368b733b",
   "metadata": {},
   "source": [
    "### Importar Pandas"
   ]
  },
  {
   "cell_type": "code",
   "execution_count": null,
   "id": "504742fc",
   "metadata": {},
   "outputs": [],
   "source": [
    "import pandas as pd\n",
    "print(pd.__version__)"
   ]
  },
  {
   "cell_type": "markdown",
   "id": "bcdfb4ca",
   "metadata": {},
   "source": [
    "## 2. Estructuras de Datos en Pandas"
   ]
  },
  {
   "cell_type": "markdown",
   "id": "6db38267",
   "metadata": {},
   "source": [
    "### Creación de una Serie"
   ]
  },
  {
   "cell_type": "code",
   "execution_count": null,
   "id": "78661ff6",
   "metadata": {},
   "outputs": [],
   "source": [
    "serie = pd.Series([10, 20, 30, 40])\n",
    "print(serie)"
   ]
  },
  {
   "cell_type": "markdown",
   "id": "f1cea68c",
   "metadata": {},
   "source": [
    "### Creación de un DataFrame"
   ]
  },
  {
   "cell_type": "code",
   "execution_count": null,
   "id": "ee2df77b",
   "metadata": {},
   "outputs": [],
   "source": [
    "datos = {'Nombre': ['Ana', 'Luis', 'Carlos'], 'Edad': [25, 30, 35]}\n",
    "df = pd.DataFrame(datos)\n",
    "print(df)"
   ]
  },
  {
   "cell_type": "markdown",
   "id": "91265b20",
   "metadata": {},
   "source": [
    "## 3. Operaciones Básicas con DataFrames"
   ]
  },
  {
   "cell_type": "markdown",
   "id": "ebf0616a",
   "metadata": {},
   "source": [
    "### Cargar un dataset público: Titanic"
   ]
  },
  {
   "cell_type": "code",
   "execution_count": null,
   "id": "79915a14",
   "metadata": {},
   "outputs": [],
   "source": [
    "url = 'https://raw.githubusercontent.com/datasciencedojo/datasets/master/titanic.csv'\n",
    "df = pd.read_csv(url)\n",
    "df.head()"
   ]
  },
  {
   "cell_type": "markdown",
   "id": "9afd4b64",
   "metadata": {},
   "source": [
    "### Seleccionar una columna"
   ]
  },
  {
   "cell_type": "code",
   "execution_count": null,
   "id": "48308061",
   "metadata": {},
   "outputs": [],
   "source": [
    "print(df['Name'].head())"
   ]
  },
  {
   "cell_type": "markdown",
   "id": "fe927350",
   "metadata": {},
   "source": [
    "### Ejercicio"
   ]
  },
  {
   "cell_type": "code",
   "execution_count": null,
   "id": "4ef1ee1e",
   "metadata": {},
   "outputs": [],
   "source": [
    "## Extrae y muestra las primeras 10 filas de la columna 'Age'."
   ]
  },
  {
   "cell_type": "markdown",
   "id": "daed9d4e",
   "metadata": {},
   "source": [
    "### Seleccionar múltiples columnas"
   ]
  },
  {
   "cell_type": "code",
   "execution_count": null,
   "id": "18adbf24",
   "metadata": {},
   "outputs": [],
   "source": [
    "print(df[['Name', 'Age', 'Sex']].head())"
   ]
  },
  {
   "cell_type": "markdown",
   "id": "b63546be",
   "metadata": {},
   "source": [
    "### Seleccionar una fila por índice"
   ]
  },
  {
   "cell_type": "code",
   "execution_count": null,
   "id": "ebf94621",
   "metadata": {},
   "outputs": [],
   "source": [
    "print(df.iloc[4])"
   ]
  },
  {
   "cell_type": "markdown",
   "id": "1d936a24",
   "metadata": {},
   "source": [
    "### Seleccionar una fila por condición"
   ]
  },
  {
   "cell_type": "code",
   "execution_count": null,
   "id": "b6f34503",
   "metadata": {},
   "outputs": [],
   "source": [
    "print(df[df['Age'] > 50].head())"
   ]
  },
  {
   "cell_type": "markdown",
   "id": "c99569d7",
   "metadata": {},
   "source": [
    "### Ejercicio"
   ]
  },
  {
   "cell_type": "code",
   "execution_count": null,
   "id": "604dddce",
   "metadata": {},
   "outputs": [],
   "source": [
    "## Filtra los pasajeros que sobrevivieron (columna 'Survived') y muéstralos."
   ]
  },
  {
   "cell_type": "markdown",
   "id": "6b79cf00",
   "metadata": {},
   "source": [
    "## 4. Filtrado y Transformaciones"
   ]
  },
  {
   "cell_type": "markdown",
   "id": "4fa064e4",
   "metadata": {},
   "source": [
    "### Filtrar datos con condiciones"
   ]
  },
  {
   "cell_type": "code",
   "execution_count": null,
   "id": "9a01f084",
   "metadata": {},
   "outputs": [],
   "source": [
    "df_filtrado = df[df['Fare'] > 100]\n",
    "print(df_filtrado.head())"
   ]
  },
  {
   "cell_type": "markdown",
   "id": "00c45106",
   "metadata": {},
   "source": [
    "### Aplicar funciones a columnas"
   ]
  },
  {
   "cell_type": "markdown",
   "id": "13087f53-2ada-4b9b-b8a9-203694e0c3f5",
   "metadata": {},
   "source": [
    "Una función lambda es una forma compacta de escribir una función en una sola línea. Se usa principalmente cuando la función es simple y no necesita un nombre."
   ]
  },
  {
   "cell_type": "code",
   "execution_count": null,
   "id": "58847a98",
   "metadata": {},
   "outputs": [],
   "source": [
    "df['Age_double'] = df['Age'].apply(lambda x: x * 2 if pd.notnull(x) else x)\n",
    "print(df[['Name', 'Age', 'Age_double']].head())"
   ]
  },
  {
   "cell_type": "markdown",
   "id": "0b3173be",
   "metadata": {},
   "source": [
    "### Ejercicio"
   ]
  },
  {
   "cell_type": "code",
   "execution_count": null,
   "id": "f7946279",
   "metadata": {},
   "outputs": [],
   "source": [
    "## Crea una nueva columna que contenga la tarifa ('Fare') multiplicada por 1.1 y muéstrala."
   ]
  },
  {
   "cell_type": "markdown",
   "id": "66fc2ae5",
   "metadata": {},
   "source": [
    "### Agrupar datos con `groupby()`"
   ]
  },
  {
   "cell_type": "code",
   "execution_count": null,
   "id": "55ec1d1e",
   "metadata": {},
   "outputs": [],
   "source": [
    "df_grouped = df.groupby('Pclass')['Survived'].mean()\n",
    "print(df_grouped)"
   ]
  },
  {
   "cell_type": "markdown",
   "id": "254e1bf8",
   "metadata": {},
   "source": [
    "### Ejercicio"
   ]
  },
  {
   "cell_type": "code",
   "execution_count": null,
   "id": "05541d3f",
   "metadata": {},
   "outputs": [],
   "source": [
    "## Agrupa los pasajeros por 'Sex' y calcula la media de edad para cada grupo."
   ]
  },
  {
   "cell_type": "markdown",
   "id": "86f001fc",
   "metadata": {},
   "source": [
    "## 5. Visualización de Datos con Pandas"
   ]
  },
  {
   "cell_type": "markdown",
   "id": "3493df87",
   "metadata": {},
   "source": [
    "### Generar un gráfico de barras de sobrevivientes por clase"
   ]
  },
  {
   "cell_type": "code",
   "execution_count": null,
   "id": "51293beb",
   "metadata": {},
   "outputs": [],
   "source": [
    "import matplotlib.pyplot as plt\n",
    "df.groupby('Pclass')['Survived'].sum().plot(kind='bar')\n",
    "plt.xlabel('Clase de Pasajero')\n",
    "plt.ylabel('Sobrevivientes')\n",
    "plt.title('Sobrevivientes por Clase de Pasajero')\n",
    "plt.show()"
   ]
  },
  {
   "cell_type": "markdown",
   "id": "a20ff4f2",
   "metadata": {},
   "source": [
    "### Generar un histograma de edades"
   ]
  },
  {
   "cell_type": "code",
   "execution_count": null,
   "id": "48207a3b",
   "metadata": {},
   "outputs": [],
   "source": [
    "df['Age'].plot(kind='hist', bins=20, edgecolor='black')\n",
    "plt.xlabel('Edad')\n",
    "plt.ylabel('Frecuencia')\n",
    "plt.title('Distribución de Edades en el Titanic')\n",
    "plt.show()"
   ]
  },
  {
   "cell_type": "markdown",
   "id": "d5f6f858",
   "metadata": {},
   "source": [
    "### Extraer datos PDF"
   ]
  },
  {
   "cell_type": "code",
   "execution_count": null,
   "id": "6c20c06c",
   "metadata": {},
   "outputs": [],
   "source": [
    "# Extraer la tabla de la página 6 del PDF usando pdfplumber\n",
    "import pdfplumber\n",
    "\n",
    "pdf_path = \"/mnt/data/CifrasPyme-diciembre2024.pdf\"\n",
    "\n",
    "# Abrir el PDF y extraer la tabla de la página 6\n",
    "with pdfplumber.open(pdf_path) as pdf:\n",
    "    page = pdf.pages[5]  # Las páginas en pdfplumber son base 0\n",
    "    table = page.extract_table()\n",
    "\n",
    "# Convertir la tabla en un DataFrame\n",
    "df_pdf = pd.DataFrame(table)\n",
    "\n",
    "# Renombrar las columnas correctamente\n",
    "df_pdf.columns = [\"Nombre\", \"PYME sin asalariados\", \"Microempresas (1-9)\", \"Pequeñas (10-49)\", \n",
    "                  \"Medianas (50-249)\", \"Grandes (250 o más)\", \"Total Trabajadores\"]\n",
    "\n",
    "# Eliminar filas vacías o incorrectas\n",
    "df_pdf = df_pdf.dropna().reset_index(drop=True)\n",
    "\n",
    "# Mostrar la tabla al usuario\n",
    "tools.display_dataframe_to_user(name=\"Tabla Extraída del PDF\", dataframe=df_pdf)\n",
    "\n",
    "# Guardar como archivo Excel\n",
    "excel_pdf_path = \"/mnt/data/tabla_extraida_desde_pdf.xlsx\"\n",
    "df_pdf.to_excel(excel_pdf_path, index=False)\n",
    "\n",
    "# Proporcionar el enlace de descarga del archivo Excel\n",
    "excel_pdf_path"
   ]
  }
 ],
 "metadata": {
  "kernelspec": {
   "display_name": "Python 3 (ipykernel)",
   "language": "python",
   "name": "python3"
  },
  "language_info": {
   "codemirror_mode": {
    "name": "ipython",
    "version": 3
   },
   "file_extension": ".py",
   "mimetype": "text/x-python",
   "name": "python",
   "nbconvert_exporter": "python",
   "pygments_lexer": "ipython3",
   "version": "3.11.7"
  }
 },
 "nbformat": 4,
 "nbformat_minor": 5
}
