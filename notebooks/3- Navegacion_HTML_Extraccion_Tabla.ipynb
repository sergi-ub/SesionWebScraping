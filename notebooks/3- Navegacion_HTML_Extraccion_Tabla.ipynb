{
 "cells": [
  {
   "cell_type": "markdown",
   "id": "6808a638",
   "metadata": {},
   "source": [
    "# Navegación en HTML y Extracción de Tablas con BeautifulSoup"
   ]
  },
  {
   "cell_type": "markdown",
   "id": "9b6342b8",
   "metadata": {},
   "source": [
    "## 1. Introducción a la Estructura HTML"
   ]
  },
  {
   "cell_type": "markdown",
   "id": "c49acb2d",
   "metadata": {},
   "source": [
    "Cuando cargamos una página web en un navegador, lo que realmente obtenemos es un documento **HTML**, que es el código fuente de la página."
   ]
  },
  {
   "cell_type": "markdown",
   "id": "ec6ab739",
   "metadata": {},
   "source": [
    "### Cómo inspeccionar el HTML de una página web:"
   ]
  },
  {
   "cell_type": "markdown",
   "id": "82d40500",
   "metadata": {},
   "source": [
    "1. **Hacer clic derecho en la página → 'Inspeccionar'** (en Chrome o Firefox)."
   ]
  },
  {
   "cell_type": "markdown",
   "id": "38b2f26c",
   "metadata": {},
   "source": [
    "2. **Ver el código fuente** con `Ctrl + U` o `Cmd + U` en Mac."
   ]
  },
  {
   "cell_type": "markdown",
   "id": "7725654a",
   "metadata": {},
   "source": [
    "3. **Escribir en la barra del navegador**: `view-source:https://en.wikipedia.org/wiki/Passengers_of_the_Titanic`."
   ]
  },
  {
   "cell_type": "markdown",
   "id": "5fe27695",
   "metadata": {},
   "source": [
    "## 2. Ubicar la Tabla en el HTML"
   ]
  },
  {
   "cell_type": "markdown",
   "id": "83bff00e",
   "metadata": {},
   "source": [
    "Si inspeccionamos la página de Wikipedia, veremos que los datos de los pasajeros están organizados en **tablas** dentro de elementos `<table>` con la clase `'wikitable sortable'`."
   ]
  },
  {
   "cell_type": "markdown",
   "id": "29d7ad70",
   "metadata": {},
   "source": [
    "### Ejemplo de estructura HTML de la tabla:"
   ]
  },
  {
   "cell_type": "code",
   "execution_count": null,
   "id": "85ae8c81",
   "metadata": {},
   "outputs": [],
   "source": [
    "<table class='wikitable sortable'>\n",
    "    <tr>\n",
    "        <th>Name</th>\n",
    "        <th>Age</th>\n",
    "        <th>Class</th>\n",
    "    </tr>\n",
    "    <tr style='background:#9bddff;'>\n",
    "        <td>John Smith</td>\n",
    "        <td>30</td>\n",
    "        <td>1</td>\n",
    "    </tr>\n",
    "</table>"
   ]
  },
  {
   "cell_type": "markdown",
   "id": "c786cdef",
   "metadata": {},
   "source": [
    "## 3. Cómo Extraer la Tabla con `BeautifulSoup`"
   ]
  },
  {
   "cell_type": "markdown",
   "id": "0f67f5a7",
   "metadata": {},
   "source": [
    "Usamos **BeautifulSoup** para encontrar todas las tablas en la página y extraer su contenido."
   ]
  },
  {
   "cell_type": "code",
   "execution_count": null,
   "id": "6d8cc158",
   "metadata": {},
   "outputs": [],
   "source": [
    "import requests\n",
    "from bs4 import BeautifulSoup\n",
    "\n",
    "# URL de Wikipedia\n",
    "wikipage = 'https://en.wikipedia.org/wiki/Passengers_of_the_Titanic'\n",
    "\n",
    "# Hacer la petición HTTP\n",
    "page = requests.get(wikipage)\n",
    "\n",
    "# Parsear el contenido HTML\n",
    "soup = BeautifulSoup(page.content, 'html.parser')\n",
    "\n",
    "# Buscar todas las tablas con la clase específica\n",
    "wikitables = soup.find_all('table', {'class': 'wikitable sortable'})\n",
    "\n",
    "print(f'Se encontraron {len(wikitables)} tablas en la página.')"
   ]
  },
  {
   "cell_type": "code",
   "execution_count": null,
   "id": "b7d21722-9da1-4a6c-8e71-accef215f803",
   "metadata": {},
   "outputs": [],
   "source": [
    "for i, table in enumerate(wikitables):\n",
    "    # Intentar obtener el título de la tabla si hay una etiqueta <caption>\n",
    "    title_tag = table.find('caption')\n",
    "    title = title_tag.get_text(strip=True) if title_tag else f'Tabla {i+1} (Sin título)'\n",
    "\n",
    "    # Contar las filas de la tabla (sin incluir la fila de encabezados)\n",
    "    rows = table.find_all('tr')\n",
    "    num_rows = len(rows) - 1  # Restamos 1 para no contar el encabezado\n",
    "\n",
    "    # Obtener los nombres de las columnas (th)\n",
    "    headers = [header.get_text(strip=True) for header in table.find_all('th')]\n",
    "\n",
    "    print(f'{title}')\n",
    "    print(f'Número de filas: {num_rows}')\n",
    "    print(f'Encabezados: {headers}\\n')"
   ]
  },
  {
   "cell_type": "markdown",
   "id": "4206c179",
   "metadata": {},
   "source": [
    "## 4. Identificar a los Fallecidos en la Tabla (Basado en el Color)"
   ]
  },
  {
   "cell_type": "markdown",
   "id": "a49555bf",
   "metadata": {},
   "source": [
    "Sabemos que los pasajeros fallecidos tienen `style='background:#9bddff;'`. Entonces, podemos filtrar las filas (`<tr>`) que contienen este atributo."
   ]
  },
  {
   "cell_type": "code",
   "execution_count": null,
   "id": "42d83358",
   "metadata": {},
   "outputs": [],
   "source": [
    "for i, table in enumerate(wikitables):\n",
    "    print(f'\\nTabla {i+1}:')\n",
    "\n",
    "    # Extraer todas las filas que tienen el color de fallecidos\n",
    "    dead_rows = table.find_all('tr', style='background:#9bddff;')\n",
    "\n",
    "    # Extraer nombres de los fallecidos\n",
    "    for row in dead_rows:\n",
    "        cells = row.find_all('td')  # Obtener celdas\n",
    "        if len(cells) > 1:\n",
    "            name = cells[0].get_text(strip=True)\n",
    "            print(f'Fallecido: {name}')"
   ]
  },
  {
   "cell_type": "markdown",
   "id": "a1770786",
   "metadata": {},
   "source": [
    "## 5. Construcción de un DataFrame con Pandas"
   ]
  },
  {
   "cell_type": "markdown",
   "id": "1c09241a",
   "metadata": {},
   "source": [
    "Podemos extraer la información y almacenarla en un **DataFrame de Pandas** para un análisis más profundo."
   ]
  },
  {
   "cell_type": "markdown",
   "id": "12ba9b36",
   "metadata": {},
   "source": [
    "### Código:"
   ]
  },
  {
   "cell_type": "code",
   "execution_count": null,
   "id": "4f7300bd",
   "metadata": {},
   "outputs": [],
   "source": [
    "import pandas as pd\n",
    "\n",
    "# Lista para almacenar pasajeros\n",
    "passengers = []\n",
    "\n",
    "# Iteramos sobre cada tabla encontrada\n",
    "for i, table in enumerate(wikitables):\n",
    "    passenger_class = i + 1  # Primera tabla es 1ª clase, segunda es 2ª, etc.\n",
    "\n",
    "    # Filtrar filas según el color de fondo\n",
    "    dead_rows = table.find_all('tr', style='background:#9bddff;')\n",
    "    all_rows = table.find_all('tr')\n",
    "\n",
    "    # Identificar filas de personas vivas (sin estilo)\n",
    "    living_rows = [row for row in all_rows if row not in dead_rows]\n",
    "\n",
    "    # Procesar filas\n",
    "    for rows, survived in [(living_rows, 1), (dead_rows, 0)]:\n",
    "        for row in rows:\n",
    "            cells = row.find_all('td')\n",
    "            if len(cells) < 2:\n",
    "                continue  # Saltamos filas sin datos\n",
    "\n",
    "            name = cells[0].get_text(strip=True)\n",
    "            age = cells[1].get_text(strip=True) if cells[1].get_text(strip=True) else None\n",
    "\n",
    "            passengers.append({'name': name, 'class': passenger_class, 'age': age, 'survived': survived})\n",
    "\n",
    "# Convertir a DataFrame\n",
    "df_passengers = pd.DataFrame(passengers)\n",
    "\n",
    "# Mostrar los primeros datos\n",
    "print(df_passengers.head())"
   ]
  }
 ],
 "metadata": {
  "kernelspec": {
   "display_name": "Python 3 (ipykernel)",
   "language": "python",
   "name": "python3"
  },
  "language_info": {
   "codemirror_mode": {
    "name": "ipython",
    "version": 3
   },
   "file_extension": ".py",
   "mimetype": "text/x-python",
   "name": "python",
   "nbconvert_exporter": "python",
   "pygments_lexer": "ipython3",
   "version": "3.11.7"
  }
 },
 "nbformat": 4,
 "nbformat_minor": 5
}
