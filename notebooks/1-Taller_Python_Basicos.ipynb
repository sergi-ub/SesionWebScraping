{
 "cells": [
  {
   "cell_type": "markdown",
   "id": "1b922404",
   "metadata": {},
   "source": [
    "# Taller de Python - Fundamentos para Web Scraping"
   ]
  },
  {
   "cell_type": "markdown",
   "id": "c4701473",
   "metadata": {},
   "source": [
    "## 1. Introducción a Python"
   ]
  },
  {
   "cell_type": "markdown",
   "id": "e8df43f8",
   "metadata": {},
   "source": [
    "- Variables y tipos de datos: `int`, `float`, `str`, `bool`\n",
    "- Operaciones básicas: suma, resta, multiplicación, división, exponenciación\n",
    "- Entrada y salida de datos con `input()` y `print()`"
   ]
  },
  {
   "cell_type": "markdown",
   "id": "720e5942",
   "metadata": {},
   "source": [
    "### Ejemplo"
   ]
  },
  {
   "cell_type": "code",
   "execution_count": null,
   "id": "22607bde",
   "metadata": {},
   "outputs": [],
   "source": [
    "nombre = input(\"¿Cómo te llamas?\")\n",
    "print(\"Hola, \" + nombre + \"!\")"
   ]
  },
  {
   "cell_type": "markdown",
   "id": "092ccc35",
   "metadata": {},
   "source": [
    "## 2. Sentencias if, elif y else"
   ]
  },
  {
   "cell_type": "markdown",
   "id": "165353ad",
   "metadata": {},
   "source": [
    "Las estructuras condicionales permiten tomar decisiones en el código."
   ]
  },
  {
   "cell_type": "markdown",
   "id": "acd5391b",
   "metadata": {},
   "source": [
    "### Ejemplo"
   ]
  },
  {
   "cell_type": "code",
   "execution_count": null,
   "id": "f7bbdf0c",
   "metadata": {},
   "outputs": [],
   "source": [
    "edad = int(input(\"Ingresa su edad: \"))\n",
    "if edad >= 18:\n",
    "    print(\"Eres mayor de edad.\")\n",
    "elif edad >= 13:\n",
    "    print(\"Eres un adolescente.\")\n",
    "else:\n",
    "    print(\"Eres un niño.\")"
   ]
  },
  {
   "cell_type": "markdown",
   "id": "5ffa0f0c",
   "metadata": {},
   "source": [
    "### Ejercicio"
   ]
  },
  {
   "cell_type": "code",
   "execution_count": null,
   "id": "89983d23",
   "metadata": {},
   "outputs": [],
   "source": [
    "## Escribe un programa que determine si una temperatura es fría (<15°C), templada (15-25°C) o calurosa (>25°C)."
   ]
  },
  {
   "cell_type": "markdown",
   "id": "c6bfe874",
   "metadata": {},
   "source": [
    "## 3. Bucles `for`"
   ]
  },
  {
   "cell_type": "markdown",
   "id": "1b9b99df",
   "metadata": {},
   "source": [
    "Los bucles `for` permiten iterar sobre secuencias (listas, cadenas, rangos, etc.)."
   ]
  },
  {
   "cell_type": "markdown",
   "id": "737e59a5",
   "metadata": {},
   "source": [
    "El bucle `for` en Python tiene la siguiente estructura:"
   ]
  },
  {
   "cell_type": "code",
   "execution_count": null,
   "id": "0460e321",
   "metadata": {},
   "outputs": [],
   "source": [
    "for variable in secuencia:\n",
    "    # Código a ejecutar en cada iteración"
   ]
  },
  {
   "cell_type": "markdown",
   "id": "1971fbe6",
   "metadata": {},
   "source": [
    "Si usamos `range()`, podemos controlar el inicio, el final y el paso:"
   ]
  },
  {
   "cell_type": "code",
   "execution_count": null,
   "id": "5787688e",
   "metadata": {},
   "outputs": [],
   "source": [
    "for i in range(1, 10, 2):\n",
    "    print(i)"
   ]
  },
  {
   "cell_type": "markdown",
   "id": "0bd04c31",
   "metadata": {},
   "source": [
    "### Ejemplo: Iterar sobre una lista de nombres"
   ]
  },
  {
   "cell_type": "code",
   "execution_count": null,
   "id": "14769079",
   "metadata": {},
   "outputs": [],
   "source": [
    "nombres = [\"Ana\", \"Juan\", \"Pedro\"]\n",
    "for nombre in nombres:\n",
    "    print(\"Hola\", nombre)"
   ]
  },
  {
   "cell_type": "markdown",
   "id": "06c76a8d",
   "metadata": {},
   "source": [
    "### Ejemplo: Iterar sobre una cadena de texto"
   ]
  },
  {
   "cell_type": "code",
   "execution_count": null,
   "id": "d70d010e",
   "metadata": {},
   "outputs": [],
   "source": [
    "palabra = \"Python\"\n",
    "for letra in palabra:\n",
    "    print(letra)"
   ]
  },
  {
   "cell_type": "markdown",
   "id": "77d94410",
   "metadata": {},
   "source": [
    "### Ejemplo: Uso de `enumerate()`"
   ]
  },
  {
   "cell_type": "code",
   "execution_count": null,
   "id": "35d62a76",
   "metadata": {},
   "outputs": [],
   "source": [
    "frutas = [\"manzana\", \"plátano\", \"cereza\"]\n",
    "for indice, fruta in enumerate(frutas):\n",
    "    print(f\"Índice {indice}: {fruta}\")"
   ]
  },
  {
   "cell_type": "markdown",
   "id": "8e944e00",
   "metadata": {},
   "source": [
    "### Ejemplo: Iteración en reversa usando `range()`"
   ]
  },
  {
   "cell_type": "code",
   "execution_count": null,
   "id": "9c68ad80",
   "metadata": {},
   "outputs": [],
   "source": [
    "for i in range(10, 0, -1):\n",
    "    print(i)"
   ]
  },
  {
   "cell_type": "markdown",
   "id": "37599acc",
   "metadata": {},
   "source": [
    "### Ejercicio"
   ]
  },
  {
   "cell_type": "code",
   "execution_count": null,
   "id": "03a865ad",
   "metadata": {},
   "outputs": [],
   "source": [
    "## Escribe código que imprima los números del 1 al 10 y otro que los imprima en orden descendente."
   ]
  },
  {
   "cell_type": "markdown",
   "id": "c5218a59",
   "metadata": {},
   "source": [
    "## 4. Bucles `while`"
   ]
  },
  {
   "cell_type": "markdown",
   "id": "9d6db32a",
   "metadata": {},
   "source": [
    "El bucle `while` se ejecuta mientras una condición sea verdadera."
   ]
  },
  {
   "cell_type": "markdown",
   "id": "5fdcbbe0",
   "metadata": {},
   "source": [
    "### Ejemplo"
   ]
  },
  {
   "cell_type": "code",
   "execution_count": null,
   "id": "e9626fe9",
   "metadata": {},
   "outputs": [],
   "source": [
    "contador = 0\n",
    "while contador < 5:\n",
    "    print(\"Contador:\", contador)\n",
    "    contador += 1"
   ]
  },
  {
   "cell_type": "markdown",
   "id": "7e1a0813",
   "metadata": {},
   "source": [
    "### Ejemplo 2"
   ]
  },
  {
   "cell_type": "code",
   "execution_count": null,
   "id": "5275669d",
   "metadata": {},
   "outputs": [],
   "source": [
    "# Definir la contraseña correcta\n",
    "contraseña_correcta = \"python123\"\n",
    "\n",
    "# Bucle que sigue pidiendo la contraseña hasta que sea correcta\n",
    "while True:\n",
    "    contraseña_usuario = input(\"Introduce la contraseña: \")\n",
    "    \n",
    "    if contraseña_usuario == contraseña_correcta:\n",
    "        print(\"Contraseña correcta. ¡Bienvenido!\")\n",
    "        break  # Sale del bucle cuando la contraseña es correcta\n",
    "    else:\n",
    "        print(\"Contraseña incorrecta. Inténtalo de nuevo.\")"
   ]
  },
  {
   "cell_type": "markdown",
   "id": "64fdf8f5",
   "metadata": {},
   "source": [
    "## 5. Operadores Útiles"
   ]
  },
  {
   "cell_type": "markdown",
   "id": "57773669",
   "metadata": {},
   "source": [
    "Algunos operadores útiles incluyen:\n",
    "- `range(inicio, fin, paso)`: Genera secuencias de números.\n",
    "- `enumerate(iterable)`: Permite obtener índices en una secuencia.\n",
    "- `zip(lista1, lista2)`: Une listas en pares."
   ]
  },
  {
   "cell_type": "markdown",
   "id": "53b5fac7",
   "metadata": {},
   "source": [
    "### Ejemplo"
   ]
  },
  {
   "cell_type": "code",
   "execution_count": null,
   "id": "fde2cddc",
   "metadata": {},
   "outputs": [],
   "source": [
    "for indice, valor in enumerate([\"a\", \"b\", \"c\"]):\n",
    "    print(indice, valor)"
   ]
  },
  {
   "cell_type": "markdown",
   "id": "e1f5bc9b",
   "metadata": {},
   "source": [
    "### Ejercicio"
   ]
  },
  {
   "cell_type": "code",
   "execution_count": null,
   "id": "efd6c247",
   "metadata": {},
   "outputs": [],
   "source": [
    "## Crea una lista de nombres y una lista de edades. Usa `zip` para imprimir cada persona con su edad."
   ]
  },
  {
   "cell_type": "markdown",
   "id": "30183347",
   "metadata": {},
   "source": [
    "## 6. Comprensiones de listas"
   ]
  },
  {
   "cell_type": "markdown",
   "id": "e4a49d24",
   "metadata": {},
   "source": [
    "Las comprensiones de listas son una forma compacta y eficiente de crear listas en Python. "
   ]
  },
  {
   "cell_type": "markdown",
   "id": "b5693976",
   "metadata": {},
   "source": [
    "### Ejemplo"
   ]
  },
  {
   "cell_type": "code",
   "execution_count": null,
   "id": "7cf70147",
   "metadata": {},
   "outputs": [],
   "source": [
    "cuadrados = [x**2 for x in range(10)]\n",
    "print(cuadrados)"
   ]
  },
  {
   "cell_type": "markdown",
   "id": "0468c344",
   "metadata": {},
   "source": [
    "### Ejercicio"
   ]
  },
  {
   "cell_type": "code",
   "execution_count": null,
   "id": "1c91af05",
   "metadata": {},
   "outputs": [],
   "source": [
    "## Crea una lista con los números pares del 1 al 20 usando una comprensión de lista."
   ]
  }
 ],
 "metadata": {
  "kernelspec": {
   "display_name": "Python 3 (ipykernel)",
   "language": "python",
   "name": "python3"
  },
  "language_info": {
   "codemirror_mode": {
    "name": "ipython",
    "version": 3
   },
   "file_extension": ".py",
   "mimetype": "text/x-python",
   "name": "python",
   "nbconvert_exporter": "python",
   "pygments_lexer": "ipython3",
   "version": "3.11.7"
  }
 },
 "nbformat": 4,
 "nbformat_minor": 5
}
